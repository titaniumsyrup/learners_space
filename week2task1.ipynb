{
  "cells": [
    {
      "cell_type": "code",
      "execution_count": 31,
      "metadata": {
        "id": "SzqjA6jbG-dW"
      },
      "outputs": [],
      "source": [
        "import tensorflow as tf\n",
        "from tensorflow.keras.layers import Dense,Flatten\n",
        "from tensorflow.keras import Input"
      ]
    },
    {
      "cell_type": "code",
      "source": [
        "import zipfile\n",
        "zip_file=zipfile.ZipFile('homer_bart.zip','r')\n",
        "zip_file.extractall('/content')\n",
        "zip_file"
      ],
      "metadata": {
        "colab": {
          "base_uri": "https://localhost:8080/"
        },
        "id": "j2Rf8BBGQPO0",
        "outputId": "c6600f39-3f95-4f3a-db34-87864346eb85"
      },
      "execution_count": 32,
      "outputs": [
        {
          "output_type": "execute_result",
          "data": {
            "text/plain": [
              "<zipfile.ZipFile filename='homer_bart.zip' mode='r'>"
            ]
          },
          "metadata": {},
          "execution_count": 32
        }
      ]
    },
    {
      "cell_type": "code",
      "source": [
        "batch_size = 32\n",
        "img_height = 64\n",
        "img_width = 64\n",
        "data_dir = '/content/images'"
      ],
      "metadata": {
        "id": "Onfey03DT-g4"
      },
      "execution_count": 33,
      "outputs": []
    },
    {
      "cell_type": "code",
      "source": [
        "dataset = tf.keras.preprocessing.image_dataset_from_directory(\n",
        "    data_dir,\n",
        "    image_size=(img_height, img_width),\n",
        "    label_mode=\"binary\",\n",
        "    batch_size=batch_size,\n",
        "    shuffle=True,\n",
        "    seed=42\n",
        ")"
      ],
      "metadata": {
        "colab": {
          "base_uri": "https://localhost:8080/"
        },
        "id": "5AOP2eeDT9iY",
        "outputId": "eec1d10b-7929-48f5-ac40-0a6df328eee3"
      },
      "execution_count": 34,
      "outputs": [
        {
          "output_type": "stream",
          "name": "stdout",
          "text": [
            "Found 269 files belonging to 2 classes.\n"
          ]
        }
      ]
    },
    {
      "cell_type": "code",
      "execution_count": 35,
      "metadata": {
        "colab": {
          "base_uri": "https://localhost:8080/"
        },
        "id": "dWOiYzrqIrvB",
        "outputId": "ed39e54e-fb3b-4fbf-e9fe-76de5bcc52d1"
      },
      "outputs": [
        {
          "output_type": "stream",
          "name": "stdout",
          "text": [
            "Found 269 files belonging to 2 classes.\n"
          ]
        }
      ],
      "source": [
        "dataset = tf.keras.preprocessing.image_dataset_from_directory(\"/content/images\",image_size=(64, 64),label_mode = \"binary\")"
      ]
    },
    {
      "cell_type": "code",
      "source": [
        "total_batches = tf.data.experimental.cardinality(dataset).numpy()\n",
        "train_batches = int(0.9 * total_batches)\n",
        "test_batches = total_batches - train_batches"
      ],
      "metadata": {
        "id": "DlnMOUgVUB64"
      },
      "execution_count": 36,
      "outputs": []
    },
    {
      "cell_type": "code",
      "execution_count": 37,
      "metadata": {
        "id": "RSasTq5wRgPz"
      },
      "outputs": [],
      "source": [
        "train_data = dataset.take(train_batches)\n",
        "test_data = dataset.skip(train_batches)\n",
        "train_data = train_data.cache().shuffle(1000).prefetch(buffer_size=tf.data.AUTOTUNE)\n",
        "test_data = test_data.cache().shuffle(1000).prefetch(buffer_size=tf.data.AUTOTUNE)"
      ]
    },
    {
      "cell_type": "code",
      "execution_count": 38,
      "metadata": {
        "id": "yID91aluk8jG"
      },
      "outputs": [],
      "source": [
        "preprocess = tf.keras.Sequential(\n",
        "    [tf.keras.layers.Rescaling(1./255)] # rescaling factor\n",
        ")\n",
        "model = tf.keras.Sequential()\n",
        "model.add(Input((64,64,3)))\n",
        "model.add(Flatten())\n",
        "model.add(preprocess)\n",
        "model.add(Dense(128, activation='relu'))\n",
        "model.add(Dense(64, activation='relu'))\n",
        "model.add(Dense(32, activation='relu'))\n",
        "model.add(Dense(1, activation='sigmoid'))"
      ]
    },
    {
      "cell_type": "code",
      "execution_count": 39,
      "metadata": {
        "id": "n8IzestGlVwX"
      },
      "outputs": [],
      "source": [
        "model.compile(optimizer='adam',\n",
        "              loss=tf.keras.losses.BinaryCrossentropy(from_logits=False),\n",
        "              metrics=['accuracy'])"
      ]
    },
    {
      "cell_type": "code",
      "execution_count": 40,
      "metadata": {
        "colab": {
          "base_uri": "https://localhost:8080/"
        },
        "id": "MUX7le0zrNKo",
        "outputId": "2cf74885-1713-423c-a194-72efdbe0e908"
      },
      "outputs": [
        {
          "output_type": "stream",
          "name": "stdout",
          "text": [
            "Epoch 1/40\n",
            "8/8 [==============================] - 2s 48ms/step - loss: 1.9390 - accuracy: 0.5430 - val_loss: 1.0356 - val_accuracy: 0.4615\n",
            "Epoch 2/40\n",
            "8/8 [==============================] - 0s 5ms/step - loss: 1.4940 - accuracy: 0.4805 - val_loss: 0.5682 - val_accuracy: 0.7692\n",
            "Epoch 3/40\n",
            "8/8 [==============================] - 0s 7ms/step - loss: 0.8662 - accuracy: 0.6211 - val_loss: 1.1402 - val_accuracy: 0.5385\n",
            "Epoch 4/40\n",
            "8/8 [==============================] - 0s 5ms/step - loss: 0.4961 - accuracy: 0.7695 - val_loss: 0.9215 - val_accuracy: 0.6923\n",
            "Epoch 5/40\n",
            "8/8 [==============================] - 0s 5ms/step - loss: 0.4434 - accuracy: 0.7891 - val_loss: 0.7296 - val_accuracy: 0.7692\n",
            "Epoch 6/40\n",
            "8/8 [==============================] - 0s 5ms/step - loss: 0.4173 - accuracy: 0.7930 - val_loss: 0.7311 - val_accuracy: 0.7692\n",
            "Epoch 7/40\n",
            "8/8 [==============================] - 0s 5ms/step - loss: 0.4005 - accuracy: 0.7812 - val_loss: 0.4251 - val_accuracy: 0.8462\n",
            "Epoch 8/40\n",
            "8/8 [==============================] - 0s 5ms/step - loss: 0.3733 - accuracy: 0.8203 - val_loss: 0.4080 - val_accuracy: 0.7692\n",
            "Epoch 9/40\n",
            "8/8 [==============================] - 0s 5ms/step - loss: 0.3634 - accuracy: 0.8398 - val_loss: 0.3585 - val_accuracy: 0.9231\n",
            "Epoch 10/40\n",
            "8/8 [==============================] - 0s 5ms/step - loss: 0.3038 - accuracy: 0.8750 - val_loss: 0.7009 - val_accuracy: 0.7692\n",
            "Epoch 11/40\n",
            "8/8 [==============================] - 0s 7ms/step - loss: 0.3740 - accuracy: 0.8203 - val_loss: 0.3824 - val_accuracy: 0.7692\n",
            "Epoch 12/40\n",
            "8/8 [==============================] - 0s 6ms/step - loss: 0.4700 - accuracy: 0.7422 - val_loss: 0.4305 - val_accuracy: 0.7692\n",
            "Epoch 13/40\n",
            "8/8 [==============================] - 0s 5ms/step - loss: 0.4194 - accuracy: 0.7773 - val_loss: 1.0795 - val_accuracy: 0.6154\n",
            "Epoch 14/40\n",
            "8/8 [==============================] - 0s 6ms/step - loss: 0.3515 - accuracy: 0.8359 - val_loss: 0.5073 - val_accuracy: 0.7692\n",
            "Epoch 15/40\n",
            "8/8 [==============================] - 0s 6ms/step - loss: 0.2036 - accuracy: 0.9492 - val_loss: 0.3272 - val_accuracy: 0.8462\n",
            "Epoch 16/40\n",
            "8/8 [==============================] - 0s 6ms/step - loss: 0.2634 - accuracy: 0.8867 - val_loss: 0.7423 - val_accuracy: 0.7692\n",
            "Epoch 17/40\n",
            "8/8 [==============================] - 0s 9ms/step - loss: 0.3097 - accuracy: 0.8516 - val_loss: 0.2747 - val_accuracy: 0.9231\n",
            "Epoch 18/40\n",
            "8/8 [==============================] - 0s 6ms/step - loss: 0.1952 - accuracy: 0.9375 - val_loss: 0.2408 - val_accuracy: 0.9231\n",
            "Epoch 19/40\n",
            "8/8 [==============================] - 0s 5ms/step - loss: 0.2141 - accuracy: 0.8945 - val_loss: 0.2365 - val_accuracy: 0.9231\n",
            "Epoch 20/40\n",
            "8/8 [==============================] - 0s 5ms/step - loss: 0.2010 - accuracy: 0.9258 - val_loss: 0.2241 - val_accuracy: 0.9231\n",
            "Epoch 21/40\n",
            "8/8 [==============================] - 0s 5ms/step - loss: 0.1521 - accuracy: 0.9492 - val_loss: 0.2606 - val_accuracy: 0.9231\n",
            "Epoch 22/40\n",
            "8/8 [==============================] - 0s 5ms/step - loss: 0.1541 - accuracy: 0.9609 - val_loss: 0.2007 - val_accuracy: 0.9231\n",
            "Epoch 23/40\n",
            "8/8 [==============================] - 0s 5ms/step - loss: 0.1246 - accuracy: 0.9805 - val_loss: 0.2286 - val_accuracy: 0.9231\n",
            "Epoch 24/40\n",
            "8/8 [==============================] - 0s 5ms/step - loss: 0.1113 - accuracy: 0.9844 - val_loss: 0.1880 - val_accuracy: 0.9231\n",
            "Epoch 25/40\n",
            "8/8 [==============================] - 0s 5ms/step - loss: 0.1018 - accuracy: 0.9922 - val_loss: 0.2026 - val_accuracy: 0.9231\n",
            "Epoch 26/40\n",
            "8/8 [==============================] - 0s 5ms/step - loss: 0.0910 - accuracy: 0.9961 - val_loss: 0.1917 - val_accuracy: 0.9231\n",
            "Epoch 27/40\n",
            "8/8 [==============================] - 0s 5ms/step - loss: 0.1151 - accuracy: 0.9688 - val_loss: 0.1871 - val_accuracy: 0.9231\n",
            "Epoch 28/40\n",
            "8/8 [==============================] - 0s 8ms/step - loss: 0.0993 - accuracy: 0.9922 - val_loss: 0.2588 - val_accuracy: 0.9231\n",
            "Epoch 29/40\n",
            "8/8 [==============================] - 0s 7ms/step - loss: 0.0780 - accuracy: 0.9922 - val_loss: 0.2168 - val_accuracy: 0.9231\n",
            "Epoch 30/40\n",
            "8/8 [==============================] - 0s 5ms/step - loss: 0.0795 - accuracy: 0.9922 - val_loss: 0.1606 - val_accuracy: 0.9231\n",
            "Epoch 31/40\n",
            "8/8 [==============================] - 0s 5ms/step - loss: 0.0650 - accuracy: 0.9961 - val_loss: 0.1568 - val_accuracy: 0.9231\n",
            "Epoch 32/40\n",
            "8/8 [==============================] - 0s 8ms/step - loss: 0.0686 - accuracy: 0.9883 - val_loss: 0.2691 - val_accuracy: 0.9231\n",
            "Epoch 33/40\n",
            "8/8 [==============================] - 0s 6ms/step - loss: 0.0628 - accuracy: 1.0000 - val_loss: 0.2984 - val_accuracy: 0.9231\n",
            "Epoch 34/40\n",
            "8/8 [==============================] - 0s 6ms/step - loss: 0.0735 - accuracy: 0.9922 - val_loss: 0.2222 - val_accuracy: 0.9231\n",
            "Epoch 35/40\n",
            "8/8 [==============================] - 0s 5ms/step - loss: 0.0538 - accuracy: 1.0000 - val_loss: 0.1760 - val_accuracy: 0.9231\n",
            "Epoch 36/40\n",
            "8/8 [==============================] - 0s 5ms/step - loss: 0.0457 - accuracy: 1.0000 - val_loss: 0.1694 - val_accuracy: 0.9231\n",
            "Epoch 37/40\n",
            "8/8 [==============================] - 0s 8ms/step - loss: 0.0424 - accuracy: 1.0000 - val_loss: 0.2630 - val_accuracy: 0.9231\n",
            "Epoch 38/40\n",
            "8/8 [==============================] - 0s 5ms/step - loss: 0.0359 - accuracy: 1.0000 - val_loss: 0.2313 - val_accuracy: 0.9231\n",
            "Epoch 39/40\n",
            "8/8 [==============================] - 0s 6ms/step - loss: 0.0293 - accuracy: 1.0000 - val_loss: 0.2616 - val_accuracy: 0.9231\n",
            "Epoch 40/40\n",
            "8/8 [==============================] - 0s 8ms/step - loss: 0.0294 - accuracy: 1.0000 - val_loss: 0.2459 - val_accuracy: 0.9231\n"
          ]
        },
        {
          "output_type": "execute_result",
          "data": {
            "text/plain": [
              "<keras.src.callbacks.History at 0x78d274101de0>"
            ]
          },
          "metadata": {},
          "execution_count": 40
        }
      ],
      "source": [
        "model.fit(train_data,\n",
        "          epochs = 40,\n",
        "          batch_size = 32,\n",
        "          verbose=1,\n",
        "          validation_data = test_data)"
      ]
    },
    {
      "cell_type": "code",
      "source": [
        "loss, accuracy = model.evaluate(test_data)\n",
        "print(f'Test Accuracy: {accuracy:.4f}')"
      ],
      "metadata": {
        "colab": {
          "base_uri": "https://localhost:8080/"
        },
        "id": "7NF9_3BJSHRC",
        "outputId": "46cce09a-3e06-4896-d3ab-cfdb2458888f"
      },
      "execution_count": 41,
      "outputs": [
        {
          "output_type": "stream",
          "name": "stdout",
          "text": [
            "1/1 [==============================] - 0s 9ms/step - loss: 0.2459 - accuracy: 0.9231\n",
            "Test Accuracy: 0.9231\n"
          ]
        }
      ]
    },
    {
      "cell_type": "code",
      "source": [],
      "metadata": {
        "id": "0Bz6QCRfSQfs"
      },
      "execution_count": 41,
      "outputs": []
    }
  ],
  "metadata": {
    "accelerator": "GPU",
    "colab": {
      "gpuType": "T4",
      "provenance": []
    },
    "kernelspec": {
      "display_name": "Python 3 (ipykernel)",
      "language": "python",
      "name": "python3"
    },
    "language_info": {
      "codemirror_mode": {
        "name": "ipython",
        "version": 3
      },
      "file_extension": ".py",
      "mimetype": "text/x-python",
      "name": "python",
      "nbconvert_exporter": "python",
      "pygments_lexer": "ipython3",
      "version": "3.11.4"
    }
  },
  "nbformat": 4,
  "nbformat_minor": 0
}